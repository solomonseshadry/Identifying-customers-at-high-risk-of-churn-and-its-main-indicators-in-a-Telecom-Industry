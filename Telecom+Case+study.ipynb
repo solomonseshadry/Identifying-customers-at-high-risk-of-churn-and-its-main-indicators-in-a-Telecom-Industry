{
 "cells": [
  {
   "cell_type": "markdown",
   "metadata": {},
   "source": [
    "# Predictive models to identify high risk of churn customers in Telecom Industry"
   ]
  },
  {
   "cell_type": "code",
   "execution_count": 1,
   "metadata": {},
   "outputs": [],
   "source": [
    "# Importing libraries\n",
    "import numpy as np\n",
    "import pandas as pd\n",
    "import matplotlib.pyplot as plt\n",
    "\n",
    "from sklearn.model_selection import train_test_split\n",
    "from sklearn.linear_model import LogisticRegression\n",
    "from sklearn.preprocessing import MinMaxScaler\n",
    "from sklearn.metrics import accuracy_score, confusion_matrix, recall_score\n",
    "\n",
    "from sklearn.utils import resample\n",
    "\n",
    "from sklearn.decomposition import PCA\n",
    "\n",
    "from sklearn.tree import DecisionTreeClassifier\n",
    "from sklearn.ensemble import RandomForestClassifier\n",
    "from sklearn.model_selection import GridSearchCV\n",
    "from sklearn.ensemble import RandomForestClassifier\n",
    "\n",
    "# hide warnings\n",
    "import warnings\n",
    "warnings.filterwarnings('ignore')"
   ]
  },
  {
   "cell_type": "code",
   "execution_count": 2,
   "metadata": {},
   "outputs": [
    {
     "name": "stdout",
     "output_type": "stream",
     "text": [
      "Rows:  99999\n",
      "Columns:  226\n"
     ]
    },
    {
     "data": {
      "text/html": [
       "<div>\n",
       "<style scoped>\n",
       "    .dataframe tbody tr th:only-of-type {\n",
       "        vertical-align: middle;\n",
       "    }\n",
       "\n",
       "    .dataframe tbody tr th {\n",
       "        vertical-align: top;\n",
       "    }\n",
       "\n",
       "    .dataframe thead th {\n",
       "        text-align: right;\n",
       "    }\n",
       "</style>\n",
       "<table border=\"1\" class=\"dataframe\">\n",
       "  <thead>\n",
       "    <tr style=\"text-align: right;\">\n",
       "      <th></th>\n",
       "      <th>mobile_number</th>\n",
       "      <th>circle_id</th>\n",
       "      <th>loc_og_t2o_mou</th>\n",
       "      <th>std_og_t2o_mou</th>\n",
       "      <th>loc_ic_t2o_mou</th>\n",
       "      <th>last_date_of_month_6</th>\n",
       "      <th>last_date_of_month_7</th>\n",
       "      <th>last_date_of_month_8</th>\n",
       "      <th>last_date_of_month_9</th>\n",
       "      <th>arpu_6</th>\n",
       "      <th>...</th>\n",
       "      <th>sachet_3g_9</th>\n",
       "      <th>fb_user_6</th>\n",
       "      <th>fb_user_7</th>\n",
       "      <th>fb_user_8</th>\n",
       "      <th>fb_user_9</th>\n",
       "      <th>aon</th>\n",
       "      <th>aug_vbc_3g</th>\n",
       "      <th>jul_vbc_3g</th>\n",
       "      <th>jun_vbc_3g</th>\n",
       "      <th>sep_vbc_3g</th>\n",
       "    </tr>\n",
       "  </thead>\n",
       "  <tbody>\n",
       "    <tr>\n",
       "      <th>0</th>\n",
       "      <td>7000842753</td>\n",
       "      <td>109</td>\n",
       "      <td>0.0</td>\n",
       "      <td>0.0</td>\n",
       "      <td>0.0</td>\n",
       "      <td>6/30/2014</td>\n",
       "      <td>7/31/2014</td>\n",
       "      <td>8/31/2014</td>\n",
       "      <td>9/30/2014</td>\n",
       "      <td>197.385</td>\n",
       "      <td>...</td>\n",
       "      <td>0</td>\n",
       "      <td>1.0</td>\n",
       "      <td>1.0</td>\n",
       "      <td>1.0</td>\n",
       "      <td>NaN</td>\n",
       "      <td>968</td>\n",
       "      <td>30.4</td>\n",
       "      <td>0.0</td>\n",
       "      <td>101.20</td>\n",
       "      <td>3.58</td>\n",
       "    </tr>\n",
       "    <tr>\n",
       "      <th>1</th>\n",
       "      <td>7001865778</td>\n",
       "      <td>109</td>\n",
       "      <td>0.0</td>\n",
       "      <td>0.0</td>\n",
       "      <td>0.0</td>\n",
       "      <td>6/30/2014</td>\n",
       "      <td>7/31/2014</td>\n",
       "      <td>8/31/2014</td>\n",
       "      <td>9/30/2014</td>\n",
       "      <td>34.047</td>\n",
       "      <td>...</td>\n",
       "      <td>0</td>\n",
       "      <td>NaN</td>\n",
       "      <td>1.0</td>\n",
       "      <td>1.0</td>\n",
       "      <td>NaN</td>\n",
       "      <td>1006</td>\n",
       "      <td>0.0</td>\n",
       "      <td>0.0</td>\n",
       "      <td>0.00</td>\n",
       "      <td>0.00</td>\n",
       "    </tr>\n",
       "    <tr>\n",
       "      <th>2</th>\n",
       "      <td>7001625959</td>\n",
       "      <td>109</td>\n",
       "      <td>0.0</td>\n",
       "      <td>0.0</td>\n",
       "      <td>0.0</td>\n",
       "      <td>6/30/2014</td>\n",
       "      <td>7/31/2014</td>\n",
       "      <td>8/31/2014</td>\n",
       "      <td>9/30/2014</td>\n",
       "      <td>167.690</td>\n",
       "      <td>...</td>\n",
       "      <td>0</td>\n",
       "      <td>NaN</td>\n",
       "      <td>NaN</td>\n",
       "      <td>NaN</td>\n",
       "      <td>1.0</td>\n",
       "      <td>1103</td>\n",
       "      <td>0.0</td>\n",
       "      <td>0.0</td>\n",
       "      <td>4.17</td>\n",
       "      <td>0.00</td>\n",
       "    </tr>\n",
       "    <tr>\n",
       "      <th>3</th>\n",
       "      <td>7001204172</td>\n",
       "      <td>109</td>\n",
       "      <td>0.0</td>\n",
       "      <td>0.0</td>\n",
       "      <td>0.0</td>\n",
       "      <td>6/30/2014</td>\n",
       "      <td>7/31/2014</td>\n",
       "      <td>8/31/2014</td>\n",
       "      <td>9/30/2014</td>\n",
       "      <td>221.338</td>\n",
       "      <td>...</td>\n",
       "      <td>0</td>\n",
       "      <td>NaN</td>\n",
       "      <td>NaN</td>\n",
       "      <td>NaN</td>\n",
       "      <td>NaN</td>\n",
       "      <td>2491</td>\n",
       "      <td>0.0</td>\n",
       "      <td>0.0</td>\n",
       "      <td>0.00</td>\n",
       "      <td>0.00</td>\n",
       "    </tr>\n",
       "    <tr>\n",
       "      <th>4</th>\n",
       "      <td>7000142493</td>\n",
       "      <td>109</td>\n",
       "      <td>0.0</td>\n",
       "      <td>0.0</td>\n",
       "      <td>0.0</td>\n",
       "      <td>6/30/2014</td>\n",
       "      <td>7/31/2014</td>\n",
       "      <td>8/31/2014</td>\n",
       "      <td>9/30/2014</td>\n",
       "      <td>261.636</td>\n",
       "      <td>...</td>\n",
       "      <td>0</td>\n",
       "      <td>0.0</td>\n",
       "      <td>NaN</td>\n",
       "      <td>NaN</td>\n",
       "      <td>NaN</td>\n",
       "      <td>1526</td>\n",
       "      <td>0.0</td>\n",
       "      <td>0.0</td>\n",
       "      <td>0.00</td>\n",
       "      <td>0.00</td>\n",
       "    </tr>\n",
       "  </tbody>\n",
       "</table>\n",
       "<p>5 rows × 226 columns</p>\n",
       "</div>"
      ],
      "text/plain": [
       "   mobile_number  circle_id  loc_og_t2o_mou  std_og_t2o_mou  loc_ic_t2o_mou  \\\n",
       "0     7000842753        109             0.0             0.0             0.0   \n",
       "1     7001865778        109             0.0             0.0             0.0   \n",
       "2     7001625959        109             0.0             0.0             0.0   \n",
       "3     7001204172        109             0.0             0.0             0.0   \n",
       "4     7000142493        109             0.0             0.0             0.0   \n",
       "\n",
       "  last_date_of_month_6 last_date_of_month_7 last_date_of_month_8  \\\n",
       "0            6/30/2014            7/31/2014            8/31/2014   \n",
       "1            6/30/2014            7/31/2014            8/31/2014   \n",
       "2            6/30/2014            7/31/2014            8/31/2014   \n",
       "3            6/30/2014            7/31/2014            8/31/2014   \n",
       "4            6/30/2014            7/31/2014            8/31/2014   \n",
       "\n",
       "  last_date_of_month_9   arpu_6  ...  sachet_3g_9  fb_user_6  fb_user_7  \\\n",
       "0            9/30/2014  197.385  ...            0        1.0        1.0   \n",
       "1            9/30/2014   34.047  ...            0        NaN        1.0   \n",
       "2            9/30/2014  167.690  ...            0        NaN        NaN   \n",
       "3            9/30/2014  221.338  ...            0        NaN        NaN   \n",
       "4            9/30/2014  261.636  ...            0        0.0        NaN   \n",
       "\n",
       "   fb_user_8  fb_user_9   aon  aug_vbc_3g  jul_vbc_3g  jun_vbc_3g  sep_vbc_3g  \n",
       "0        1.0        NaN   968        30.4         0.0      101.20        3.58  \n",
       "1        1.0        NaN  1006         0.0         0.0        0.00        0.00  \n",
       "2        NaN        1.0  1103         0.0         0.0        4.17        0.00  \n",
       "3        NaN        NaN  2491         0.0         0.0        0.00        0.00  \n",
       "4        NaN        NaN  1526         0.0         0.0        0.00        0.00  \n",
       "\n",
       "[5 rows x 226 columns]"
      ]
     },
     "execution_count": 2,
     "metadata": {},
     "output_type": "execute_result"
    }
   ],
   "source": [
    "# reading the csv file and getting info of number of columns and rows\n",
    "df = pd.read_csv('telecom_churn_data.csv')\n",
    "print(\"Rows: \",df.shape[0])\n",
    "print(\"Columns: \",df.shape[1])\n",
    "df.head()"
   ]
  },
  {
   "cell_type": "markdown",
   "metadata": {},
   "source": [
    "## Data cleaning and Preparation"
   ]
  },
  {
   "cell_type": "markdown",
   "metadata": {},
   "source": [
    "### Filtering high-value customers \n",
    "\n",
    "#### For this we need to find amount spend on data along with recharge amount in the first 2 months. After that we need to find customers who have recharged with an amount more than or equal to X, where X is the 70th percentile of the average recharge amount in the first two months."
   ]
  },
  {
   "cell_type": "code",
   "execution_count": 3,
   "metadata": {},
   "outputs": [],
   "source": [
    "# Filling blank values as 0 for those customers who did not recharged in in 6th and 7th month\n",
    "\n",
    "df.total_rech_data_6 = df.total_rech_data_6.fillna(0)\n",
    "df.total_rech_data_7 = df.total_rech_data_7.fillna(0)\n",
    "df.av_rech_amt_data_6 = df.av_rech_amt_data_6.fillna(0)\n",
    "df.av_rech_amt_data_7 = df.av_rech_amt_data_7.fillna(0)"
   ]
  },
  {
   "cell_type": "code",
   "execution_count": 4,
   "metadata": {},
   "outputs": [],
   "source": [
    "# Calculating the total amount of data recharge in 6th and 7th month\n",
    "\n",
    "df['amt_rech_6'] = df.total_rech_data_6 * df.av_rech_amt_data_6\n",
    "df['amt_rech_7'] = df.total_rech_data_7 * df.av_rech_amt_data_7"
   ]
  },
  {
   "cell_type": "code",
   "execution_count": 5,
   "metadata": {},
   "outputs": [],
   "source": [
    "# Calculating the total amount spend by a customer\n",
    "\n",
    "df['avg_amt_rech_6_7'] = (df.amt_rech_6 + df.total_rech_amt_6 + df.amt_rech_7 + df.total_rech_amt_7)/2"
   ]
  },
  {
   "cell_type": "code",
   "execution_count": 6,
   "metadata": {},
   "outputs": [],
   "source": [
    "# Dropping the columns which were used to calculate the average amount of recharge\n",
    "\n",
    "df = df.drop(['amt_rech_6', 'amt_rech_7', 'total_rech_data_6', 'total_rech_data_7', 'av_rech_amt_data_6', 'av_rech_amt_data_6'], axis=1)"
   ]
  },
  {
   "cell_type": "code",
   "execution_count": 7,
   "metadata": {},
   "outputs": [],
   "source": [
    "# Filtering high valued customers\n",
    "\n",
    "df1 = df[df.avg_amt_rech_6_7 >= df.avg_amt_rech_6_7.quantile(0.7)]"
   ]
  },
  {
   "cell_type": "code",
   "execution_count": 8,
   "metadata": {},
   "outputs": [
    {
     "name": "stdout",
     "output_type": "stream",
     "text": [
      "High valued customers are:  30001\n"
     ]
    }
   ],
   "source": [
    "# Checking the number of rows or high valued customers\n",
    "\n",
    "print(\"High valued customers are: \",df1.shape[0])"
   ]
  },
  {
   "cell_type": "markdown",
   "metadata": {},
   "source": [
    "### Data cleaning"
   ]
  },
  {
   "cell_type": "code",
   "execution_count": 9,
   "metadata": {},
   "outputs": [
    {
     "name": "stdout",
     "output_type": "stream",
     "text": [
      "last_date_of_month_7           27\n",
      "date_of_last_rech_6            73\n",
      "date_of_last_rech_7            98\n",
      "last_date_of_month_8          165\n",
      "loc_og_t2o_mou                224\n",
      "std_og_t2o_mou                224\n",
      "loc_ic_t2o_mou                224\n",
      "last_date_of_month_9          365\n",
      "loc_og_t2m_mou_7              537\n",
      "spl_ic_mou_7                  537\n",
      "std_ic_t2t_mou_7              537\n",
      "loc_og_t2f_mou_7              537\n",
      "std_og_mou_7                  537\n",
      "loc_og_t2c_mou_7              537\n",
      "std_ic_mou_7                  537\n",
      "loc_ic_t2m_mou_7              537\n",
      "isd_og_mou_7                  537\n",
      "loc_og_mou_7                  537\n",
      "std_ic_t2o_mou_7              537\n",
      "std_ic_t2m_mou_7              537\n",
      "std_og_t2t_mou_7              537\n",
      "std_og_t2f_mou_7              537\n",
      "std_og_t2c_mou_7              537\n",
      "std_og_t2m_mou_7              537\n",
      "isd_ic_mou_7                  537\n",
      "loc_ic_mou_7                  537\n",
      "loc_ic_t2t_mou_7              537\n",
      "onnet_mou_7                   537\n",
      "loc_ic_t2f_mou_7              537\n",
      "offnet_mou_7                  537\n",
      "og_others_7                   537\n",
      "loc_og_t2t_mou_7              537\n",
      "roam_ic_mou_7                 537\n",
      "roam_og_mou_7                 537\n",
      "spl_og_mou_7                  537\n",
      "ic_others_7                   537\n",
      "std_ic_t2f_mou_7              537\n",
      "std_og_mou_6                  545\n",
      "std_ic_t2m_mou_6              545\n",
      "og_others_6                   545\n",
      "loc_ic_mou_6                  545\n",
      "std_ic_t2t_mou_6              545\n",
      "std_og_t2c_mou_6              545\n",
      "loc_ic_t2f_mou_6              545\n",
      "loc_ic_t2t_mou_6              545\n",
      "spl_og_mou_6                  545\n",
      "isd_og_mou_6                  545\n",
      "std_og_t2f_mou_6              545\n",
      "std_ic_t2f_mou_6              545\n",
      "loc_og_mou_6                  545\n",
      "isd_ic_mou_6                  545\n",
      "onnet_mou_6                   545\n",
      "offnet_mou_6                  545\n",
      "roam_ic_mou_6                 545\n",
      "roam_og_mou_6                 545\n",
      "ic_others_6                   545\n",
      "loc_og_t2t_mou_6              545\n",
      "std_og_t2m_mou_6              545\n",
      "loc_og_t2m_mou_6              545\n",
      "loc_og_t2f_mou_6              545\n",
      "loc_ic_t2m_mou_6              545\n",
      "std_ic_t2o_mou_6              545\n",
      "loc_og_t2c_mou_6              545\n",
      "std_ic_mou_6                  545\n",
      "std_og_t2t_mou_6              545\n",
      "spl_ic_mou_6                  545\n",
      "date_of_last_rech_8           583\n",
      "date_of_last_rech_9           815\n",
      "spl_ic_mou_8                 1174\n",
      "std_ic_t2m_mou_8             1174\n",
      "loc_ic_t2f_mou_8             1174\n",
      "std_ic_t2o_mou_8             1174\n",
      "isd_ic_mou_8                 1174\n",
      "loc_ic_mou_8                 1174\n",
      "std_ic_t2t_mou_8             1174\n",
      "std_ic_mou_8                 1174\n",
      "ic_others_8                  1174\n",
      "std_ic_t2f_mou_8             1174\n",
      "loc_ic_t2m_mou_8             1174\n",
      "loc_ic_t2t_mou_8             1174\n",
      "onnet_mou_8                  1174\n",
      "offnet_mou_8                 1174\n",
      "roam_og_mou_8                1174\n",
      "loc_og_t2t_mou_8             1174\n",
      "loc_og_t2m_mou_8             1174\n",
      "loc_og_t2f_mou_8             1174\n",
      "loc_og_t2c_mou_8             1174\n",
      "loc_og_mou_8                 1174\n",
      "std_og_t2t_mou_8             1174\n",
      "std_og_t2m_mou_8             1174\n",
      "std_og_t2f_mou_8             1174\n",
      "std_og_t2c_mou_8             1174\n",
      "roam_ic_mou_8                1174\n",
      "std_og_mou_8                 1174\n",
      "spl_og_mou_8                 1174\n",
      "og_others_8                  1174\n",
      "isd_og_mou_8                 1174\n",
      "std_ic_t2t_mou_9             1901\n",
      "loc_og_t2t_mou_9             1901\n",
      "roam_og_mou_9                1901\n",
      "isd_ic_mou_9                 1901\n",
      "og_others_9                  1901\n",
      "roam_ic_mou_9                1901\n",
      "loc_ic_t2t_mou_9             1901\n",
      "ic_others_9                  1901\n",
      "offnet_mou_9                 1901\n",
      "loc_ic_t2m_mou_9             1901\n",
      "onnet_mou_9                  1901\n",
      "std_og_t2c_mou_9             1901\n",
      "spl_ic_mou_9                 1901\n",
      "loc_og_t2m_mou_9             1901\n",
      "spl_og_mou_9                 1901\n",
      "std_og_t2m_mou_9             1901\n",
      "std_ic_mou_9                 1901\n",
      "loc_og_t2f_mou_9             1901\n",
      "loc_og_t2c_mou_9             1901\n",
      "std_ic_t2o_mou_9             1901\n",
      "isd_og_mou_9                 1901\n",
      "loc_og_mou_9                 1901\n",
      "std_ic_t2f_mou_9             1901\n",
      "std_og_t2t_mou_9             1901\n",
      "loc_ic_mou_9                 1901\n",
      "loc_ic_t2f_mou_9             1901\n",
      "std_ic_t2m_mou_9             1901\n",
      "std_og_mou_9                 1901\n",
      "std_og_t2f_mou_9             1901\n",
      "count_rech_3g_7             12944\n",
      "arpu_3g_7                   12944\n",
      "count_rech_2g_7             12944\n",
      "night_pck_user_7            12944\n",
      "fb_user_7                   12944\n",
      "arpu_2g_7                   12944\n",
      "max_rech_data_7             12944\n",
      "date_of_last_rech_data_7    12944\n",
      "arpu_2g_6                   13245\n",
      "count_rech_2g_6             13245\n",
      "fb_user_6                   13245\n",
      "night_pck_user_6            13245\n",
      "count_rech_3g_6             13245\n",
      "max_rech_data_6             13245\n",
      "arpu_3g_6                   13245\n",
      "date_of_last_rech_data_6    13245\n",
      "max_rech_data_8             14048\n",
      "arpu_3g_8                   14048\n",
      "night_pck_user_8            14048\n",
      "date_of_last_rech_data_8    14048\n",
      "count_rech_3g_8             14048\n",
      "total_rech_data_8           14048\n",
      "count_rech_2g_8             14048\n",
      "fb_user_8                   14048\n",
      "av_rech_amt_data_8          14048\n",
      "arpu_2g_8                   14048\n",
      "night_pck_user_9            14781\n",
      "date_of_last_rech_data_9    14781\n",
      "arpu_3g_9                   14781\n",
      "av_rech_amt_data_9          14781\n",
      "count_rech_3g_9             14781\n",
      "count_rech_2g_9             14781\n",
      "total_rech_data_9           14781\n",
      "max_rech_data_9             14781\n",
      "arpu_2g_9                   14781\n",
      "fb_user_9                   14781\n",
      "dtype: int64\n"
     ]
    }
   ],
   "source": [
    "# checking the columns with the null values and the count\n",
    "\n",
    "with pd.option_context(\"display.max_rows\", None):\n",
    "    print(df1.isnull().sum()[df1.isnull().sum()>0].sort_values())"
   ]
  },
  {
   "cell_type": "code",
   "execution_count": 10,
   "metadata": {},
   "outputs": [],
   "source": [
    "# Removing columns with single value as they don't have any usefull info\n",
    "\n",
    "df2 = df1.drop(list(df1.nunique()[df1.nunique()==1].index),axis=1)"
   ]
  },
  {
   "cell_type": "code",
   "execution_count": 11,
   "metadata": {},
   "outputs": [],
   "source": [
    "# Getting \"churn\" columns using 'vol_3g_mb_9', 'vol_2g_mb_9', 'total_og_mou_9'and 'total_ic_mou_9' columns\n",
    "\n",
    "df2['churn'] = df2[['vol_3g_mb_9', 'vol_2g_mb_9', 'total_og_mou_9', 'total_ic_mou_9']].sum(axis=1)==0\n",
    "df2[\"churn\"] = df2[\"churn\"].astype(int)"
   ]
  },
  {
   "cell_type": "code",
   "execution_count": 12,
   "metadata": {},
   "outputs": [
    {
     "name": "stdout",
     "output_type": "stream",
     "text": [
      "['arpu_9', 'onnet_mou_9', 'offnet_mou_9', 'roam_ic_mou_9', 'roam_og_mou_9', 'loc_og_t2t_mou_9', 'loc_og_t2m_mou_9', 'loc_og_t2f_mou_9', 'loc_og_t2c_mou_9', 'loc_og_mou_9', 'std_og_t2t_mou_9', 'std_og_t2m_mou_9', 'std_og_t2f_mou_9', 'std_og_mou_9', 'isd_og_mou_9', 'spl_og_mou_9', 'og_others_9', 'total_og_mou_9', 'loc_ic_t2t_mou_9', 'loc_ic_t2m_mou_9', 'loc_ic_t2f_mou_9', 'loc_ic_mou_9', 'std_ic_t2t_mou_9', 'std_ic_t2m_mou_9', 'std_ic_t2f_mou_9', 'std_ic_mou_9', 'total_ic_mou_9', 'spl_ic_mou_9', 'isd_ic_mou_9', 'ic_others_9', 'total_rech_num_9', 'total_rech_amt_9', 'max_rech_amt_9', 'date_of_last_rech_9', 'last_day_rch_amt_9', 'date_of_last_rech_data_9', 'total_rech_data_9', 'max_rech_data_9', 'count_rech_2g_9', 'count_rech_3g_9', 'av_rech_amt_data_9', 'vol_2g_mb_9', 'vol_3g_mb_9', 'arpu_3g_9', 'arpu_2g_9', 'night_pck_user_9', 'monthly_2g_9', 'sachet_2g_9', 'monthly_3g_9', 'sachet_3g_9', 'fb_user_9']\n"
     ]
    }
   ],
   "source": [
    "# Getting list of the columns that contain the data of 9th month i.e. last month\n",
    "\n",
    "col_9 = [col for col in df2.columns if '_9' in col]\n",
    "print(col_9)"
   ]
  },
  {
   "cell_type": "code",
   "execution_count": 13,
   "metadata": {},
   "outputs": [],
   "source": [
    "# Dropping the columns of the 9th month as in the practical problem we won't have last month data\n",
    "\n",
    "df3 = df2.drop(col_9,axis=1)"
   ]
  },
  {
   "cell_type": "code",
   "execution_count": 14,
   "metadata": {},
   "outputs": [
    {
     "data": {
      "text/plain": [
       "(30001, 158)"
      ]
     },
     "execution_count": 14,
     "metadata": {},
     "output_type": "execute_result"
    }
   ],
   "source": [
    "total_rows = df3.shape[0]\n",
    "df3.shape"
   ]
  },
  {
   "cell_type": "code",
   "execution_count": 15,
   "metadata": {},
   "outputs": [
    {
     "name": "stdout",
     "output_type": "stream",
     "text": [
      "count_rech_2g_7             12944\n",
      "date_of_last_rech_data_7    12944\n",
      "arpu_3g_7                   12944\n",
      "fb_user_7                   12944\n",
      "max_rech_data_7             12944\n",
      "night_pck_user_7            12944\n",
      "count_rech_3g_7             12944\n",
      "arpu_2g_7                   12944\n",
      "arpu_3g_6                   13245\n",
      "count_rech_3g_6             13245\n",
      "date_of_last_rech_data_6    13245\n",
      "count_rech_2g_6             13245\n",
      "max_rech_data_6             13245\n",
      "fb_user_6                   13245\n",
      "night_pck_user_6            13245\n",
      "arpu_2g_6                   13245\n",
      "arpu_2g_8                   14048\n",
      "night_pck_user_8            14048\n",
      "count_rech_3g_8             14048\n",
      "av_rech_amt_data_8          14048\n",
      "count_rech_2g_8             14048\n",
      "max_rech_data_8             14048\n",
      "total_rech_data_8           14048\n",
      "date_of_last_rech_data_8    14048\n",
      "arpu_3g_8                   14048\n",
      "fb_user_8                   14048\n",
      "dtype: int64\n"
     ]
    }
   ],
   "source": [
    "# Remove columns with more than 30% empty data\n",
    "\n",
    "with pd.option_context(\"display.max_rows\", None):\n",
    "    print(df3.isnull().sum()[df3.isnull().sum()/total_rows>0.3].sort_values())\n",
    "df4 = df3.drop(list(df3.isnull().sum()[df3.isnull().sum()/total_rows>0.3].index),axis=1)"
   ]
  },
  {
   "cell_type": "code",
   "execution_count": 16,
   "metadata": {},
   "outputs": [
    {
     "name": "stdout",
     "output_type": "stream",
     "text": [
      "date_of_last_rech_6      73\n",
      "date_of_last_rech_7      98\n",
      "loc_ic_t2f_mou_7        537\n",
      "std_og_t2f_mou_7        537\n",
      "std_og_t2m_mou_7        537\n",
      "isd_og_mou_7            537\n",
      "std_ic_t2f_mou_7        537\n",
      "std_og_t2t_mou_7        537\n",
      "loc_og_mou_7            537\n",
      "spl_og_mou_7            537\n",
      "std_ic_mou_7            537\n",
      "loc_og_t2c_mou_7        537\n",
      "std_ic_t2t_mou_7        537\n",
      "loc_og_t2f_mou_7        537\n",
      "std_ic_t2m_mou_7        537\n",
      "spl_ic_mou_7            537\n",
      "og_others_7             537\n",
      "std_og_mou_7            537\n",
      "onnet_mou_7             537\n",
      "loc_og_t2t_mou_7        537\n",
      "loc_ic_t2t_mou_7        537\n",
      "isd_ic_mou_7            537\n",
      "roam_og_mou_7           537\n",
      "loc_ic_mou_7            537\n",
      "loc_og_t2m_mou_7        537\n",
      "roam_ic_mou_7           537\n",
      "loc_ic_t2m_mou_7        537\n",
      "ic_others_7             537\n",
      "offnet_mou_7            537\n",
      "std_ic_t2m_mou_6        545\n",
      "isd_og_mou_6            545\n",
      "std_ic_t2t_mou_6        545\n",
      "loc_ic_t2m_mou_6        545\n",
      "og_others_6             545\n",
      "loc_ic_t2t_mou_6        545\n",
      "loc_ic_mou_6            545\n",
      "spl_og_mou_6            545\n",
      "onnet_mou_6             545\n",
      "std_og_t2f_mou_6        545\n",
      "offnet_mou_6            545\n",
      "roam_ic_mou_6           545\n",
      "ic_others_6             545\n",
      "roam_og_mou_6           545\n",
      "loc_og_t2t_mou_6        545\n",
      "isd_ic_mou_6            545\n",
      "loc_og_t2m_mou_6        545\n",
      "loc_og_t2f_mou_6        545\n",
      "spl_ic_mou_6            545\n",
      "loc_og_t2c_mou_6        545\n",
      "loc_og_mou_6            545\n",
      "std_ic_mou_6            545\n",
      "loc_ic_t2f_mou_6        545\n",
      "std_og_t2m_mou_6        545\n",
      "std_ic_t2f_mou_6        545\n",
      "std_og_mou_6            545\n",
      "std_og_t2t_mou_6        545\n",
      "date_of_last_rech_8     583\n",
      "loc_ic_t2m_mou_8       1174\n",
      "onnet_mou_8            1174\n",
      "ic_others_8            1174\n",
      "offnet_mou_8           1174\n",
      "roam_ic_mou_8          1174\n",
      "isd_ic_mou_8           1174\n",
      "roam_og_mou_8          1174\n",
      "loc_og_t2t_mou_8       1174\n",
      "spl_ic_mou_8           1174\n",
      "loc_og_t2m_mou_8       1174\n",
      "loc_og_t2f_mou_8       1174\n",
      "std_ic_mou_8           1174\n",
      "loc_ic_t2f_mou_8       1174\n",
      "loc_og_t2c_mou_8       1174\n",
      "std_ic_t2f_mou_8       1174\n",
      "std_og_t2t_mou_8       1174\n",
      "std_og_t2m_mou_8       1174\n",
      "std_ic_t2m_mou_8       1174\n",
      "std_og_t2f_mou_8       1174\n",
      "std_og_mou_8           1174\n",
      "std_ic_t2t_mou_8       1174\n",
      "spl_og_mou_8           1174\n",
      "og_others_8            1174\n",
      "loc_ic_mou_8           1174\n",
      "loc_ic_t2t_mou_8       1174\n",
      "loc_og_mou_8           1174\n",
      "isd_og_mou_8           1174\n",
      "dtype: int64\n"
     ]
    }
   ],
   "source": [
    "# Dropping Rows which contain null values \n",
    "\n",
    "with pd.option_context(\"display.max_rows\", None):\n",
    "    print(df4.isnull().sum()[df4.isnull().sum()>0].sort_values())\n",
    "df5 = df4.dropna()"
   ]
  },
  {
   "cell_type": "code",
   "execution_count": 17,
   "metadata": {},
   "outputs": [
    {
     "data": {
      "text/plain": [
       "(28163, 132)"
      ]
     },
     "execution_count": 17,
     "metadata": {},
     "output_type": "execute_result"
    }
   ],
   "source": [
    "# Getting the shape of the data set after removing null values\n",
    "\n",
    "df5.shape"
   ]
  },
  {
   "cell_type": "code",
   "execution_count": 18,
   "metadata": {},
   "outputs": [
    {
     "name": "stdout",
     "output_type": "stream",
     "text": [
      "0    26625\n",
      "1     1538\n",
      "Name: churn, dtype: int64\n"
     ]
    },
    {
     "data": {
      "image/png": "[encoded data removed]",
      "text/plain": [
       "<Figure size 432x288 with 1 Axes>"
      ]
     },
     "metadata": {
      "needs_background": "light"
     },
     "output_type": "display_data"
    }
   ],
   "source": [
    "# Comparing the \"churn\" and \"Not Churn\" Values\n",
    "\n",
    "df5.churn.value_counts().plot.bar()\n",
    "print(df5.churn.value_counts())\n",
    "\n",
    "## Here 0 is for \"Not churn\" and 1 is for \"Churn\""
   ]
  },
  {
   "cell_type": "code",
   "execution_count": 19,
   "metadata": {},
   "outputs": [
    {
     "name": "stdout",
     "output_type": "stream",
     "text": [
      "date_of_last_rech_6    6/27/2014\n",
      "date_of_last_rech_7    7/25/2014\n",
      "date_of_last_rech_8    8/26/2014\n",
      "Name: 7, dtype: object\n"
     ]
    }
   ],
   "source": [
    "# Checking the object type columns\n",
    "\n",
    "object_col_data = df5.select_dtypes(include=['object'])\n",
    "print(object_col_data.iloc[0])"
   ]
  },
  {
   "cell_type": "code",
   "execution_count": 20,
   "metadata": {},
   "outputs": [],
   "source": [
    "# We can remove these columns as they won't tell us any usefull info\n",
    "\n",
    "df5 = df5.drop(['date_of_last_rech_8', 'date_of_last_rech_7', 'date_of_last_rech_6'], axis=1)"
   ]
  },
  {
   "cell_type": "code",
   "execution_count": 21,
   "metadata": {},
   "outputs": [],
   "source": [
    "# Removing \"mobile_number\" columns as it won't tell us any usefull info\n",
    "\n",
    "df5 = df5.drop(['mobile_number'],axis=1)\n"
   ]
  },
  {
   "cell_type": "markdown",
   "metadata": {},
   "source": [
    "## Modeling\n",
    "\n",
    "#### For this case study, Sensitivity is more important than accuracy as we need to focus on the customers who will churn\n",
    "\n",
    "#### For modeling we are following these steps:\n",
    "- Build simple logistic regression to get basic knowledge of the prediction accuracy and sensitivity\n",
    "- Perform Resampling to solve the problem of class imbalance \n",
    "- Perform PCA to solve the problem of Overfitting and multi collinearity\n",
    "- Build Decision Tree and see if the performance is increasing\n",
    "- Build Random Forest and see if the performance is increasing\n",
    "- Using Random Forest, find important features for churn"
   ]
  },
  {
   "cell_type": "code",
   "execution_count": 22,
   "metadata": {},
   "outputs": [],
   "source": [
    "# Split in train & Test data set\n",
    "\n",
    "train, test = train_test_split(df5, test_size=0.3, train_size=0.7, random_state=1)"
   ]
  },
  {
   "cell_type": "code",
   "execution_count": 23,
   "metadata": {},
   "outputs": [],
   "source": [
    "# MinMax scaling training and testing data\n",
    "\n",
    "scaler = MinMaxScaler().fit(train)\n",
    "train_scaled = scaler.transform(train)\n",
    "test_scaled = scaler.transform(test)\n",
    "\n",
    "train_df = pd.DataFrame(train_scaled, columns=train.columns)\n",
    "test_df = pd.DataFrame(test_scaled, columns=train.columns)"
   ]
  },
  {
   "cell_type": "code",
   "execution_count": 24,
   "metadata": {},
   "outputs": [],
   "source": [
    "# Splitting input and output columns\n",
    "\n",
    "y_train = train_df.churn\n",
    "X_train = train_df.drop(['churn'], axis=1)\n",
    "y_test = test_df.churn\n",
    "X_test = test_df.drop(['churn'], axis=1)"
   ]
  },
  {
   "cell_type": "code",
   "execution_count": 25,
   "metadata": {},
   "outputs": [],
   "source": [
    "# Building simple logistic regression to get basic knowledge of the prediction accuracy and sensitivity\n",
    "\n",
    "clf = LogisticRegression(random_state=0).fit(X_train, y_train)"
   ]
  },
  {
   "cell_type": "code",
   "execution_count": 26,
   "metadata": {},
   "outputs": [],
   "source": [
    "y_train_pred = clf.predict(X_train)\n",
    "y_test_pred = clf.predict(X_test)"
   ]
  },
  {
   "cell_type": "code",
   "execution_count": 27,
   "metadata": {},
   "outputs": [
    {
     "name": "stdout",
     "output_type": "stream",
     "text": [
      "Accuracy on Training Data: 0.9455209495789794\n",
      "Accuracy on Testing Data: 0.9461474730737366\n"
     ]
    }
   ],
   "source": [
    "# Checking accuracy on the training and testing data\n",
    "\n",
    "print(\"Accuracy on Training Data:\",accuracy_score(y_train, y_train_pred))\n",
    "print(\"Accuracy on Testing Data:\",accuracy_score(y_test, y_test_pred))"
   ]
  },
  {
   "cell_type": "code",
   "execution_count": 28,
   "metadata": {},
   "outputs": [
    {
     "name": "stdout",
     "output_type": "stream",
     "text": [
      "Sensitivity on Training Data: 0.04355885078776645\n",
      "Sensitivity on Testing Data: 0.032679738562091505\n"
     ]
    }
   ],
   "source": [
    "# Checking Recall or sensitivity on the training and testing data\n",
    "\n",
    "print(\"Sensitivity on Training Data:\",recall_score(y_train,y_train_pred))\n",
    "print(\"Sensitivity on Testing Data:\",recall_score(y_test,y_test_pred))"
   ]
  },
  {
   "cell_type": "markdown",
   "metadata": {},
   "source": [
    "### Accuracy is very high but sensitivity is very low because of class imbalance\n",
    "\n",
    "#### We can use resampling to get equal number of rows for both classes"
   ]
  },
  {
   "cell_type": "code",
   "execution_count": 29,
   "metadata": {},
   "outputs": [
    {
     "data": {
      "text/plain": [
       "0.0    18635\n",
       "1.0    18585\n",
       "Name: churn, dtype: int64"
      ]
     },
     "execution_count": 29,
     "metadata": {},
     "output_type": "execute_result"
    }
   ],
   "source": [
    "df_majority = train_df[train_df.churn==0]\n",
    "df_minority = train_df[train_df.churn==1]\n",
    " \n",
    "# Upsample minority class\n",
    "df_minority_upsampled = resample(df_minority, \n",
    "                                 replace=True,     # sample with replacement\n",
    "                                 n_samples=18585,    # to match majority class\n",
    "                                 random_state=0) # reproducible results\n",
    " \n",
    "# Combine majority class with upsampled minority class\n",
    "df_upsampled = pd.concat([df_majority, df_minority_upsampled])\n",
    " \n",
    "# Display new class counts\n",
    "df_upsampled.churn.value_counts()"
   ]
  },
  {
   "cell_type": "code",
   "execution_count": 30,
   "metadata": {},
   "outputs": [],
   "source": [
    "# Splitting input and output columns \n",
    "\n",
    "y_train_new = df_upsampled.churn\n",
    "X_train_new = df_upsampled.drop(['churn'], axis=1)"
   ]
  },
  {
   "cell_type": "code",
   "execution_count": 31,
   "metadata": {},
   "outputs": [
    {
     "data": {
      "text/plain": [
       "PCA(random_state=100)"
      ]
     },
     "execution_count": 31,
     "metadata": {},
     "output_type": "execute_result"
    }
   ],
   "source": [
    "# Performing PCA on training data\n",
    "\n",
    "pca = PCA( random_state=100)\n",
    "pca.fit(X_train_new)"
   ]
  },
  {
   "cell_type": "code",
   "execution_count": 32,
   "metadata": {},
   "outputs": [
    {
     "data": {
      "image/png": "[encoded data removed]",
      "text/plain": [
       "<Figure size 864x576 with 1 Axes>"
      ]
     },
     "metadata": {
      "needs_background": "light"
     },
     "output_type": "display_data"
    }
   ],
   "source": [
    "#Making the screeplot - plotting the cumulative variance against the number of components\n",
    "\n",
    "%matplotlib inline\n",
    "fig = plt.figure(figsize = (12,8))\n",
    "plt.plot(np.cumsum(pca.explained_variance_ratio_))\n",
    "plt.xlabel('number of components')\n",
    "plt.ylabel('cumulative explained variance')\n",
    "plt.show()"
   ]
  },
  {
   "cell_type": "code",
   "execution_count": 33,
   "metadata": {},
   "outputs": [
    {
     "name": "stdout",
     "output_type": "stream",
     "text": [
      "Training data Sensitivity:  0.8002690341673393\n",
      "Training data Accuracy:  0.7936324556689952\n",
      "Testing data Sensitivity:  0.7908496732026143\n",
      "Testing data Accuracy:  0.7848266066990176\n"
     ]
    }
   ],
   "source": [
    "pca = PCA(n_components=30,random_state=100)\n",
    "#Scale and transform data to get Principal Components\n",
    "\n",
    "Xtrain_reduced = pca.fit_transform(X_train_new)\n",
    "Xtest_reduced = pca.transform(X_test)\n",
    "regrpca6 = LogisticRegression(random_state=0)\n",
    "# Train the model using the principal components of the transformed training sets\n",
    "regrpca6.fit(Xtrain_reduced, y_train_new)\n",
    "y_train_pred = regrpca6.predict(Xtrain_reduced)\n",
    "# Make predictions using the principal components of the transformed testing set\n",
    "y_pred = regrpca6.predict(Xtest_reduced)\n",
    "\n",
    "print(\"Training data Sensitivity: \",recall_score(y_train_new, y_train_pred))\n",
    "print(\"Training data Accuracy: \",accuracy_score(y_train_new, y_train_pred))\n",
    "\n",
    "print(\"Testing data Sensitivity: \",recall_score(y_test, y_pred))\n",
    "print(\"Testing data Accuracy: \",accuracy_score(y_test, y_pred))\n"
   ]
  },
  {
   "cell_type": "markdown",
   "metadata": {},
   "source": [
    "### In this instance we observe good sensitivity compared to the previous results, We can now try implementing Tree based models and see if we get better sensitivity"
   ]
  },
  {
   "cell_type": "markdown",
   "metadata": {},
   "source": [
    "## Decision Tree using Grid search for Hyperparameters tuning"
   ]
  },
  {
   "cell_type": "code",
   "execution_count": 34,
   "metadata": {},
   "outputs": [],
   "source": [
    "# Decision tree object for Grid search\n",
    "dt = DecisionTreeClassifier(random_state=42)\n",
    "\n",
    "# Parameters to tune\n",
    "params = {\n",
    "    'max_depth': [3, 4, 5, 6],\n",
    "    'min_samples_leaf': [50, 60, 70, 100],\n",
    "    'criterion': [\"entropy\"]\n",
    "}"
   ]
  },
  {
   "cell_type": "code",
   "execution_count": 35,
   "metadata": {},
   "outputs": [],
   "source": [
    "# Instantiate the grid search model\n",
    "\n",
    "grid_search = GridSearchCV(estimator=dt, \n",
    "                           param_grid=params, \n",
    "                           cv=4, n_jobs=-1, verbose=1, scoring = \"recall\")"
   ]
  },
  {
   "cell_type": "code",
   "execution_count": 36,
   "metadata": {},
   "outputs": [
    {
     "name": "stdout",
     "output_type": "stream",
     "text": [
      "Fitting 4 folds for each of 16 candidates, totalling 64 fits\n"
     ]
    },
    {
     "data": {
      "text/plain": [
       "GridSearchCV(cv=4, estimator=DecisionTreeClassifier(random_state=42), n_jobs=-1,\n",
       "             param_grid={'criterion': ['entropy'], 'max_depth': [3, 4, 5, 6],\n",
       "                         'min_samples_leaf': [50, 60, 70, 100]},\n",
       "             scoring='recall', verbose=1)"
      ]
     },
     "execution_count": 36,
     "metadata": {},
     "output_type": "execute_result"
    }
   ],
   "source": [
    "# Training the models\n",
    "grid_search.fit(X_train_new, y_train_new)"
   ]
  },
  {
   "cell_type": "code",
   "execution_count": 37,
   "metadata": {},
   "outputs": [],
   "source": [
    "# Getting the best model\n",
    "\n",
    "dt_best = grid_search.best_estimator_"
   ]
  },
  {
   "cell_type": "code",
   "execution_count": 38,
   "metadata": {},
   "outputs": [],
   "source": [
    "def evaluate_model(dt_classifier):\n",
    "    print(\"Train Accuracy :\", accuracy_score(y_train_new, dt_classifier.predict(X_train_new)))\n",
    "    print(\"Train Recall :\", recall_score(y_train_new, dt_classifier.predict(X_train_new)))\n",
    "    print(\"Train Confusion Matrix:\")\n",
    "    confusion_train = confusion_matrix(y_train_new, dt_classifier.predict(X_train_new))\n",
    "    print(confusion_train)\n",
    "    print(\"-\"*50)\n",
    "    print(\"Test Accuracy :\", accuracy_score(y_test, dt_classifier.predict(X_test)))\n",
    "    print(\"Test Recall :\", recall_score(y_test, dt_classifier.predict(X_test)))\n",
    "    print(\"Test Confusion Matrix:\")\n",
    "    confusion_test = confusion_matrix(y_test, dt_classifier.predict(X_test))\n",
    "    print(confusion_test)"
   ]
  },
  {
   "cell_type": "code",
   "execution_count": 39,
   "metadata": {},
   "outputs": [
    {
     "name": "stdout",
     "output_type": "stream",
     "text": [
      "Train Accuracy : 0.8466415905427189\n",
      "Train Recall : 0.8299165994081248\n",
      "Train Confusion Matrix:\n",
      "[[16088  2547]\n",
      " [ 3161 15424]]\n",
      "--------------------------------------------------\n",
      "Test Accuracy : 0.854894070304178\n",
      "Test Recall : 0.7450980392156863\n",
      "Test Confusion Matrix:\n",
      "[[6881 1109]\n",
      " [ 117  342]]\n"
     ]
    }
   ],
   "source": [
    "evaluate_model(dt_best)"
   ]
  },
  {
   "cell_type": "markdown",
   "metadata": {},
   "source": [
    "### We get better accuracy but almost same sensitivity as logistic regression"
   ]
  },
  {
   "cell_type": "markdown",
   "metadata": {},
   "source": [
    "## Random Forest using Grid search for hyperparameters tuning"
   ]
  },
  {
   "cell_type": "code",
   "execution_count": 40,
   "metadata": {},
   "outputs": [],
   "source": [
    "# Random Forest object for Grid search\n",
    "\n",
    "classifier_rf = RandomForestClassifier(random_state=42, n_jobs=-1)\n",
    "\n",
    "# Parameters to tune\n",
    "params = {\n",
    "    'max_depth': [3, 4, 5],\n",
    "    'min_samples_leaf': [60, 70, 100],\n",
    "    'max_features': [2,3,4],\n",
    "    'n_estimators': [50, 100, 200]\n",
    "}"
   ]
  },
  {
   "cell_type": "code",
   "execution_count": 41,
   "metadata": {},
   "outputs": [],
   "source": [
    "# Instantiate the grid search model\n",
    "\n",
    "grid_search = GridSearchCV(estimator=classifier_rf, param_grid=params, \n",
    "                          cv=4, n_jobs=-1, verbose=1, scoring = \"recall\")"
   ]
  },
  {
   "cell_type": "code",
   "execution_count": 42,
   "metadata": {},
   "outputs": [
    {
     "name": "stdout",
     "output_type": "stream",
     "text": [
      "Fitting 4 folds for each of 81 candidates, totalling 324 fits\n"
     ]
    },
    {
     "data": {
      "text/plain": [
       "GridSearchCV(cv=4, estimator=RandomForestClassifier(n_jobs=-1, random_state=42),\n",
       "             n_jobs=-1,\n",
       "             param_grid={'max_depth': [3, 4, 5], 'max_features': [2, 3, 4],\n",
       "                         'min_samples_leaf': [60, 70, 100],\n",
       "                         'n_estimators': [50, 100, 200]},\n",
       "             scoring='recall', verbose=1)"
      ]
     },
     "execution_count": 42,
     "metadata": {},
     "output_type": "execute_result"
    }
   ],
   "source": [
    "# Traing the models\n",
    "\n",
    "grid_search.fit(X_train_new, y_train_new)"
   ]
  },
  {
   "cell_type": "code",
   "execution_count": 43,
   "metadata": {},
   "outputs": [],
   "source": [
    "# Getting the best model\n",
    "\n",
    "rf_best = grid_search.best_estimator_"
   ]
  },
  {
   "cell_type": "code",
   "execution_count": 49,
   "metadata": {},
   "outputs": [
    {
     "name": "stdout",
     "output_type": "stream",
     "text": [
      "Train Accuracy : 0.8100483610961848\n",
      "Train Recall : 0.7595372612321765\n",
      "Train Confusion Matrix:\n",
      "[[16034  2601]\n",
      " [ 4469 14116]]\n",
      "--------------------------------------------------\n",
      "Test Accuracy : 0.8448337081311398\n",
      "Test Recall : 0.6623093681917211\n",
      "Test Confusion Matrix:\n",
      "[[6834 1156]\n",
      " [ 155  304]]\n"
     ]
    }
   ],
   "source": [
    "evaluate_model(rf_best)"
   ]
  },
  {
   "cell_type": "markdown",
   "metadata": {},
   "source": [
    "### We get better accuracy than the other 2 models but we dont have the desired sensitivity on the test set."
   ]
  },
  {
   "cell_type": "code",
   "execution_count": 45,
   "metadata": {},
   "outputs": [],
   "source": [
    "# Getting the most important features from the random forest\n",
    "\n",
    "imp_df = pd.DataFrame({\n",
    "    \"Varname\": X_train.columns,\n",
    "    \"Imp\": rf_best.feature_importances_\n",
    "})"
   ]
  },
  {
   "cell_type": "code",
   "execution_count": 46,
   "metadata": {},
   "outputs": [
    {
     "data": {
      "text/html": [
       "<div>\n",
       "<style scoped>\n",
       "    .dataframe tbody tr th:only-of-type {\n",
       "        vertical-align: middle;\n",
       "    }\n",
       "\n",
       "    .dataframe tbody tr th {\n",
       "        vertical-align: top;\n",
       "    }\n",
       "\n",
       "    .dataframe thead th {\n",
       "        text-align: right;\n",
       "    }\n",
       "</style>\n",
       "<table border=\"1\" class=\"dataframe\">\n",
       "  <thead>\n",
       "    <tr style=\"text-align: right;\">\n",
       "      <th></th>\n",
       "      <th>Varname</th>\n",
       "      <th>Imp</th>\n",
       "    </tr>\n",
       "  </thead>\n",
       "  <tbody>\n",
       "    <tr>\n",
       "      <th>80</th>\n",
       "      <td>total_ic_mou_8</td>\n",
       "      <td>0.056093</td>\n",
       "    </tr>\n",
       "    <tr>\n",
       "      <th>20</th>\n",
       "      <td>loc_og_t2m_mou_8</td>\n",
       "      <td>0.044479</td>\n",
       "    </tr>\n",
       "    <tr>\n",
       "      <th>65</th>\n",
       "      <td>loc_ic_mou_8</td>\n",
       "      <td>0.036833</td>\n",
       "    </tr>\n",
       "    <tr>\n",
       "      <th>56</th>\n",
       "      <td>loc_ic_t2t_mou_8</td>\n",
       "      <td>0.035191</td>\n",
       "    </tr>\n",
       "    <tr>\n",
       "      <th>11</th>\n",
       "      <td>roam_ic_mou_8</td>\n",
       "      <td>0.034893</td>\n",
       "    </tr>\n",
       "    <tr>\n",
       "      <th>...</th>\n",
       "      <td>...</td>\n",
       "      <td>...</td>\n",
       "    </tr>\n",
       "    <tr>\n",
       "      <th>42</th>\n",
       "      <td>isd_og_mou_6</td>\n",
       "      <td>0.000255</td>\n",
       "    </tr>\n",
       "    <tr>\n",
       "      <th>116</th>\n",
       "      <td>monthly_3g_7</td>\n",
       "      <td>0.000154</td>\n",
       "    </tr>\n",
       "    <tr>\n",
       "      <th>118</th>\n",
       "      <td>sachet_3g_6</td>\n",
       "      <td>0.000107</td>\n",
       "    </tr>\n",
       "    <tr>\n",
       "      <th>49</th>\n",
       "      <td>og_others_7</td>\n",
       "      <td>0.000000</td>\n",
       "    </tr>\n",
       "    <tr>\n",
       "      <th>50</th>\n",
       "      <td>og_others_8</td>\n",
       "      <td>0.000000</td>\n",
       "    </tr>\n",
       "  </tbody>\n",
       "</table>\n",
       "<p>127 rows × 2 columns</p>\n",
       "</div>"
      ],
      "text/plain": [
       "              Varname       Imp\n",
       "80     total_ic_mou_8  0.056093\n",
       "20   loc_og_t2m_mou_8  0.044479\n",
       "65       loc_ic_mou_8  0.036833\n",
       "56   loc_ic_t2t_mou_8  0.035191\n",
       "11      roam_ic_mou_8  0.034893\n",
       "..                ...       ...\n",
       "42       isd_og_mou_6  0.000255\n",
       "116      monthly_3g_7  0.000154\n",
       "118       sachet_3g_6  0.000107\n",
       "49        og_others_7  0.000000\n",
       "50        og_others_8  0.000000\n",
       "\n",
       "[127 rows x 2 columns]"
      ]
     },
     "execution_count": 46,
     "metadata": {},
     "output_type": "execute_result"
    }
   ],
   "source": [
    "imp_df.sort_values(by=\"Imp\", ascending=False)"
   ]
  },
  {
   "cell_type": "code",
   "execution_count": 47,
   "metadata": {},
   "outputs": [],
   "source": [
    "# Getting the most important features from the decision tree\n",
    "imp_df_dt = pd.DataFrame({\n",
    "    \"Varname\": X_train.columns,\n",
    "    \"Imp\": dt_best.feature_importances_\n",
    "})"
   ]
  },
  {
   "cell_type": "code",
   "execution_count": 48,
   "metadata": {},
   "outputs": [
    {
     "data": {
      "text/html": [
       "<div>\n",
       "<style scoped>\n",
       "    .dataframe tbody tr th:only-of-type {\n",
       "        vertical-align: middle;\n",
       "    }\n",
       "\n",
       "    .dataframe tbody tr th {\n",
       "        vertical-align: top;\n",
       "    }\n",
       "\n",
       "    .dataframe thead th {\n",
       "        text-align: right;\n",
       "    }\n",
       "</style>\n",
       "<table border=\"1\" class=\"dataframe\">\n",
       "  <thead>\n",
       "    <tr style=\"text-align: right;\">\n",
       "      <th></th>\n",
       "      <th>Varname</th>\n",
       "      <th>Imp</th>\n",
       "    </tr>\n",
       "  </thead>\n",
       "  <tbody>\n",
       "    <tr>\n",
       "      <th>65</th>\n",
       "      <td>loc_ic_mou_8</td>\n",
       "      <td>0.370003</td>\n",
       "    </tr>\n",
       "    <tr>\n",
       "      <th>14</th>\n",
       "      <td>roam_og_mou_8</td>\n",
       "      <td>0.119029</td>\n",
       "    </tr>\n",
       "    <tr>\n",
       "      <th>101</th>\n",
       "      <td>last_day_rch_amt_8</td>\n",
       "      <td>0.078223</td>\n",
       "    </tr>\n",
       "    <tr>\n",
       "      <th>11</th>\n",
       "      <td>roam_ic_mou_8</td>\n",
       "      <td>0.058760</td>\n",
       "    </tr>\n",
       "    <tr>\n",
       "      <th>95</th>\n",
       "      <td>total_rech_amt_8</td>\n",
       "      <td>0.057742</td>\n",
       "    </tr>\n",
       "    <tr>\n",
       "      <th>...</th>\n",
       "      <td>...</td>\n",
       "      <td>...</td>\n",
       "    </tr>\n",
       "    <tr>\n",
       "      <th>42</th>\n",
       "      <td>isd_og_mou_6</td>\n",
       "      <td>0.000000</td>\n",
       "    </tr>\n",
       "    <tr>\n",
       "      <th>41</th>\n",
       "      <td>std_og_mou_8</td>\n",
       "      <td>0.000000</td>\n",
       "    </tr>\n",
       "    <tr>\n",
       "      <th>39</th>\n",
       "      <td>std_og_mou_6</td>\n",
       "      <td>0.000000</td>\n",
       "    </tr>\n",
       "    <tr>\n",
       "      <th>38</th>\n",
       "      <td>std_og_t2f_mou_8</td>\n",
       "      <td>0.000000</td>\n",
       "    </tr>\n",
       "    <tr>\n",
       "      <th>63</th>\n",
       "      <td>loc_ic_mou_6</td>\n",
       "      <td>0.000000</td>\n",
       "    </tr>\n",
       "  </tbody>\n",
       "</table>\n",
       "<p>127 rows × 2 columns</p>\n",
       "</div>"
      ],
      "text/plain": [
       "                Varname       Imp\n",
       "65         loc_ic_mou_8  0.370003\n",
       "14        roam_og_mou_8  0.119029\n",
       "101  last_day_rch_amt_8  0.078223\n",
       "11        roam_ic_mou_8  0.058760\n",
       "95     total_rech_amt_8  0.057742\n",
       "..                  ...       ...\n",
       "42         isd_og_mou_6  0.000000\n",
       "41         std_og_mou_8  0.000000\n",
       "39         std_og_mou_6  0.000000\n",
       "38     std_og_t2f_mou_8  0.000000\n",
       "63         loc_ic_mou_6  0.000000\n",
       "\n",
       "[127 rows x 2 columns]"
      ]
     },
     "execution_count": 48,
     "metadata": {},
     "output_type": "execute_result"
    }
   ],
   "source": [
    "imp_df_dt.sort_values(by=\"Imp\", ascending=False)"
   ]
  },
  {
   "cell_type": "markdown",
   "metadata": {},
   "source": [
    "## Observations:\n",
    "\n",
    "- After building 3 models, we conclude that logistic regression after resampling and decison tree gave us almost same sensitivity of around 78-79%.\n",
    "\n",
    "- We get the most sensitivity from Logistic Regression i.e. 79%\n",
    "\n",
    "- From Decision tree and random forest both, we can see that 8th month i.e. third month from the start of the observation period is the most important feature.\n",
    "\n",
    "- When there is a sudden change in the incoming calls, recharge amount, and outgoing calls, there is a chance of \"Churn\"\n",
    "\n",
    "## Suggestable Strategies:\n",
    "\n",
    "- Implement a survey feedback from the clients to get better knowledge of the reason why clients are churning\n",
    "- Study the competitor's strategies to provide better offers to the clients\n"
   ]
  },
  {
   "cell_type": "code",
   "execution_count": null,
   "metadata": {},
   "outputs": [],
   "source": []
  }
 ],
 "metadata": {
  "kernelspec": {
   "display_name": "Python 3",
   "language": "python",
   "name": "python3"
  },
  "language_info": {
   "codemirror_mode": {
    "name": "ipython",
    "version": 3
   },
   "file_extension": ".py",
   "mimetype": "text/x-python",
   "name": "python",
   "nbconvert_exporter": "python",
   "pygments_lexer": "ipython3",
   "version": "3.8.8"
  }
 },
 "nbformat": 4,
 "nbformat_minor": 2
}
